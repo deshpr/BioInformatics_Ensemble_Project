{
 "cells": [
  {
   "cell_type": "markdown",
   "metadata": {},
   "source": [
    "# TCSS 588 Ensemble Project Winter  2019\n",
    "\n",
    "#### This notebook contains the code to calculate the accuracy of a decision tree and extra tree classifier trained, and then using the coefficients of the trained classifier to deterine the important genes. \n",
    "#### To summarize, here are the steps this  notebook takes:\n",
    "####  Step 1. Load the gene data for 1000 genes.\n",
    "#### Step 2. Remove the entry_id column from this data\n",
    "#### Step 3. Train a Decision Tree Classifier using this data using 5 fold cross validation\n",
    "#### Step 5: Train an Extra Trees Classifier using this data using 5 fold cross validation\n",
    "#### Step 4: Determine the genes that are important using the Extra Trees Classifier\n",
    "#### Step 6: Determine the genes that are important using the Decision Classifier\n",
    "\n",
    "### Dependencies\n",
    "### Data Files\n",
    "\n",
    "#### 1. The file  data\\\\aml.data.RNA.1k.csv - this has the  data\n",
    "#### 2. The file data\\\\aml.data.labels.csv  - this file  has the Y values - the class we would like to predict\n",
    "\n",
    "### Packages\n",
    "\n",
    "#### This code depends on the following python packages:\n",
    "#####  os, sklearn, pandas, \n"
   ]
  },
  {
   "cell_type": "markdown",
   "metadata": {},
   "source": [
    "## Step 1. Load the Data"
   ]
  },
  {
   "cell_type": "markdown",
   "metadata": {},
   "source": [
    "#### We load the training data and the testing data. \n",
    "####  a. First laod the RNA genes data file. \n",
    "####  Also drop the entry_id column from it since that is a primary key and not required for  training or classification purposes. The data from both the files match based on the entry_id\n"
   ]
  },
  {
   "cell_type": "code",
   "execution_count": 29,
   "metadata": {},
   "outputs": [
    {
     "data": {
      "text/plain": [
       "'C:\\\\Users\\\\radeshpa\\\\Desktop\\\\New folder (2)'"
      ]
     },
     "execution_count": 29,
     "metadata": {},
     "output_type": "execute_result"
    }
   ],
   "source": [
    "import os\n",
    "os.getcwd()"
   ]
  },
  {
   "cell_type": "markdown",
   "metadata": {},
   "source": [
    "# Step 1. First for 1k data set"
   ]
  },
  {
   "cell_type": "code",
   "execution_count": 30,
   "metadata": {},
   "outputs": [],
   "source": [
    "dataSize = \"1k\""
   ]
  },
  {
   "cell_type": "code",
   "execution_count": 55,
   "metadata": {},
   "outputs": [
    {
     "data": {
      "text/plain": [
       "(177, 1017)"
      ]
     },
     "execution_count": 55,
     "metadata": {},
     "output_type": "execute_result"
    }
   ],
   "source": [
    "# Ensure these paths are valid\n",
    "import pandas as pd\n",
    "inputDataFile = \"data\\\\aml.data.RNA.1k.csv\"\n",
    "labelDataFile = \"data\\\\aml.data.labels.csv\"\n",
    "X_Original = pd.read_csv(os.path.join(os.getcwd(), inputDataFile))\n",
    "\n",
    "# Drop the entry id column\n",
    "X = X_Original.drop(X_Original.columns[0], axis=1)\n",
    "X.head()\n",
    "X.shape"
   ]
  },
  {
   "cell_type": "markdown",
   "metadata": {},
   "source": [
    "#### b. Load the output classifier data. Once again, drop the risk_entry columnn."
   ]
  },
  {
   "cell_type": "code",
   "execution_count": 56,
   "metadata": {},
   "outputs": [
    {
     "data": {
      "text/plain": [
       "(177, 1)"
      ]
     },
     "execution_count": 56,
     "metadata": {},
     "output_type": "execute_result"
    }
   ],
   "source": [
    "y_Original = pd.read_csv(os.path.join(os.getcwd(), labelDataFile))\n",
    "# Drop the entry id\n",
    "y = y_Original.drop(y_Original.columns[0], axis=1)\n",
    "y.head()\n",
    "y.shape"
   ]
  },
  {
   "cell_type": "markdown",
   "metadata": {},
   "source": [
    "# Step 2. Generate Training and Test Sets"
   ]
  },
  {
   "cell_type": "markdown",
   "metadata": {},
   "source": [
    "#### a.  Create an instance of KFold to split the data into 5 folds."
   ]
  },
  {
   "cell_type": "code",
   "execution_count": 33,
   "metadata": {},
   "outputs": [],
   "source": [
    "from sklearn.model_selection import KFold\n",
    "from sklearn.tree import DecisionTreeClassifier\n",
    "\n",
    "\n",
    "splitCount = 5\n",
    "\n",
    "# Setting the random state ensures identical results.\n",
    "\n",
    "kFolds = KFold(n_splits = splitCount, shuffle=False, random_state=3)\n"
   ]
  },
  {
   "cell_type": "markdown",
   "metadata": {},
   "source": [
    "#### b. Now perform 5-fold cross validation for  decision tree model."
   ]
  },
  {
   "cell_type": "code",
   "execution_count": 34,
   "metadata": {},
   "outputs": [
    {
     "name": "stderr",
     "output_type": "stream",
     "text": [
      "c:\\users\\radeshpa\\appdata\\local\\programs\\python\\python36\\lib\\site-packages\\ipykernel_launcher.py:6: DeprecationWarning: \n",
      ".ix is deprecated. Please use\n",
      ".loc for label based indexing or\n",
      ".iloc for positional indexing\n",
      "\n",
      "See the documentation here:\n",
      "http://pandas.pydata.org/pandas-docs/stable/indexing.html#ix-indexer-is-deprecated\n",
      "  \n",
      "c:\\users\\radeshpa\\appdata\\local\\programs\\python\\python36\\lib\\site-packages\\ipykernel_launcher.py:7: DeprecationWarning: \n",
      ".ix is deprecated. Please use\n",
      ".loc for label based indexing or\n",
      ".iloc for positional indexing\n",
      "\n",
      "See the documentation here:\n",
      "http://pandas.pydata.org/pandas-docs/stable/indexing.html#ix-indexer-is-deprecated\n",
      "  import sys\n",
      "c:\\users\\radeshpa\\appdata\\local\\programs\\python\\python36\\lib\\site-packages\\ipykernel_launcher.py:6: DeprecationWarning: \n",
      ".ix is deprecated. Please use\n",
      ".loc for label based indexing or\n",
      ".iloc for positional indexing\n",
      "\n",
      "See the documentation here:\n",
      "http://pandas.pydata.org/pandas-docs/stable/indexing.html#ix-indexer-is-deprecated\n",
      "  \n",
      "c:\\users\\radeshpa\\appdata\\local\\programs\\python\\python36\\lib\\site-packages\\ipykernel_launcher.py:7: DeprecationWarning: \n",
      ".ix is deprecated. Please use\n",
      ".loc for label based indexing or\n",
      ".iloc for positional indexing\n",
      "\n",
      "See the documentation here:\n",
      "http://pandas.pydata.org/pandas-docs/stable/indexing.html#ix-indexer-is-deprecated\n",
      "  import sys\n",
      "c:\\users\\radeshpa\\appdata\\local\\programs\\python\\python36\\lib\\site-packages\\ipykernel_launcher.py:6: DeprecationWarning: \n",
      ".ix is deprecated. Please use\n",
      ".loc for label based indexing or\n",
      ".iloc for positional indexing\n",
      "\n",
      "See the documentation here:\n",
      "http://pandas.pydata.org/pandas-docs/stable/indexing.html#ix-indexer-is-deprecated\n",
      "  \n",
      "c:\\users\\radeshpa\\appdata\\local\\programs\\python\\python36\\lib\\site-packages\\ipykernel_launcher.py:7: DeprecationWarning: \n",
      ".ix is deprecated. Please use\n",
      ".loc for label based indexing or\n",
      ".iloc for positional indexing\n",
      "\n",
      "See the documentation here:\n",
      "http://pandas.pydata.org/pandas-docs/stable/indexing.html#ix-indexer-is-deprecated\n",
      "  import sys\n",
      "c:\\users\\radeshpa\\appdata\\local\\programs\\python\\python36\\lib\\site-packages\\ipykernel_launcher.py:6: DeprecationWarning: \n",
      ".ix is deprecated. Please use\n",
      ".loc for label based indexing or\n",
      ".iloc for positional indexing\n",
      "\n",
      "See the documentation here:\n",
      "http://pandas.pydata.org/pandas-docs/stable/indexing.html#ix-indexer-is-deprecated\n",
      "  \n",
      "c:\\users\\radeshpa\\appdata\\local\\programs\\python\\python36\\lib\\site-packages\\ipykernel_launcher.py:7: DeprecationWarning: \n",
      ".ix is deprecated. Please use\n",
      ".loc for label based indexing or\n",
      ".iloc for positional indexing\n",
      "\n",
      "See the documentation here:\n",
      "http://pandas.pydata.org/pandas-docs/stable/indexing.html#ix-indexer-is-deprecated\n",
      "  import sys\n",
      "c:\\users\\radeshpa\\appdata\\local\\programs\\python\\python36\\lib\\site-packages\\ipykernel_launcher.py:6: DeprecationWarning: \n",
      ".ix is deprecated. Please use\n",
      ".loc for label based indexing or\n",
      ".iloc for positional indexing\n",
      "\n",
      "See the documentation here:\n",
      "http://pandas.pydata.org/pandas-docs/stable/indexing.html#ix-indexer-is-deprecated\n",
      "  \n",
      "c:\\users\\radeshpa\\appdata\\local\\programs\\python\\python36\\lib\\site-packages\\ipykernel_launcher.py:7: DeprecationWarning: \n",
      ".ix is deprecated. Please use\n",
      ".loc for label based indexing or\n",
      ".iloc for positional indexing\n",
      "\n",
      "See the documentation here:\n",
      "http://pandas.pydata.org/pandas-docs/stable/indexing.html#ix-indexer-is-deprecated\n",
      "  import sys\n"
     ]
    },
    {
     "data": {
      "text/plain": [
       "[80.55555555555556,\n",
       " 83.33333333333334,\n",
       " 82.85714285714286,\n",
       " 88.57142857142857,\n",
       " 94.28571428571428]"
      ]
     },
     "execution_count": 34,
     "metadata": {},
     "output_type": "execute_result"
    }
   ],
   "source": [
    "allTreeAccuracyValues = []\n",
    "allTreeFeatureImportanceValues = []\n",
    "allTreeModels = []\n",
    "\n",
    "for train_index, test_index in kFolds.split(X):\n",
    "    X_train, X_test = X.ix[train_index], X.ix[test_index]\n",
    "    y_train, y_test = y.ix[train_index], y.ix[test_index]\n",
    "    tree = DecisionTreeClassifier()\n",
    "    treeResult = tree.fit(X_train, y_train)\n",
    "    y_prediction = treeResult.predict(X_test)\n",
    "    y_actual = y_test['risk'].values\n",
    "    accuracy = (y_prediction == y_actual).sum()/len(y_actual)\n",
    "    allTreeAccuracyValues.append(accuracy * 100)\n",
    "    allTreeFeatureImportanceValues.append(treeResult.feature_importances_)\n",
    "    allTreeModels.append(treeResult)\n",
    "\n",
    "allTreeAccuracyValues"
   ]
  },
  {
   "cell_type": "markdown",
   "metadata": {},
   "source": [
    "#### Write the accuracies of the decision tree to  a csv file for analyzing later."
   ]
  },
  {
   "cell_type": "code",
   "execution_count": 35,
   "metadata": {},
   "outputs": [
    {
     "data": {
      "text/html": [
       "<div>\n",
       "<style scoped>\n",
       "    .dataframe tbody tr th:only-of-type {\n",
       "        vertical-align: middle;\n",
       "    }\n",
       "\n",
       "    .dataframe tbody tr th {\n",
       "        vertical-align: top;\n",
       "    }\n",
       "\n",
       "    .dataframe thead th {\n",
       "        text-align: right;\n",
       "    }\n",
       "</style>\n",
       "<table border=\"1\" class=\"dataframe\">\n",
       "  <thead>\n",
       "    <tr style=\"text-align: right;\">\n",
       "      <th></th>\n",
       "      <th>Accuracy</th>\n",
       "    </tr>\n",
       "  </thead>\n",
       "  <tbody>\n",
       "    <tr>\n",
       "      <th>0</th>\n",
       "      <td>80.555556</td>\n",
       "    </tr>\n",
       "    <tr>\n",
       "      <th>1</th>\n",
       "      <td>83.333333</td>\n",
       "    </tr>\n",
       "    <tr>\n",
       "      <th>2</th>\n",
       "      <td>82.857143</td>\n",
       "    </tr>\n",
       "    <tr>\n",
       "      <th>3</th>\n",
       "      <td>88.571429</td>\n",
       "    </tr>\n",
       "    <tr>\n",
       "      <th>4</th>\n",
       "      <td>94.285714</td>\n",
       "    </tr>\n",
       "  </tbody>\n",
       "</table>\n",
       "</div>"
      ],
      "text/plain": [
       "    Accuracy\n",
       "0  80.555556\n",
       "1  83.333333\n",
       "2  82.857143\n",
       "3  88.571429\n",
       "4  94.285714"
      ]
     },
     "execution_count": 35,
     "metadata": {},
     "output_type": "execute_result"
    }
   ],
   "source": [
    "treeAccuracyValuesFrame = pd.DataFrame(allTreeAccuracyValues, columns=['Accuracy'])\n",
    "treeAccuracyValuesFrame.to_csv(\"data\\\\{}_tree_accuracyValues.csv\".format(dataSize))\n",
    "treeAccuracyValuesFrame\n"
   ]
  },
  {
   "cell_type": "code",
   "execution_count": null,
   "metadata": {},
   "outputs": [],
   "source": []
  },
  {
   "cell_type": "markdown",
   "metadata": {},
   "source": [
    "#### c. Perform 5-fold cross validation using the ExtraTreesClassifier model."
   ]
  },
  {
   "cell_type": "code",
   "execution_count": 36,
   "metadata": {},
   "outputs": [
    {
     "data": {
      "image/png": "[encoded data removed]",
      "text/plain": [
       "<IPython.core.display.Image object>"
      ]
     },
     "execution_count": 36,
     "metadata": {},
     "output_type": "execute_result"
    }
   ],
   "source": [
    "from sklearn import tree\n",
    "import pydotplus\n",
    "from IPython.display import Image\n",
    "\n",
    "featureNames = X.columns.get_values().tolist()\n",
    "\n",
    "dot_data = tree.export_graphviz(allTreeModels[1], out_file=None, feature_names=featureNames)\n",
    "\n",
    "# Draw graph\n",
    "graph = pydotplus.graph_from_dot_data(dot_data)  \n",
    "\n",
    "# Show graph\n",
    "image = Image(graph.create_png())\n",
    "\n",
    "\n",
    "# Create PNG\n",
    "graph.write_png(\"1k_decision_tree.png\")\n",
    "\n",
    "image"
   ]
  },
  {
   "cell_type": "code",
   "execution_count": 37,
   "metadata": {},
   "outputs": [
    {
     "name": "stderr",
     "output_type": "stream",
     "text": [
      "c:\\users\\radeshpa\\appdata\\local\\programs\\python\\python36\\lib\\site-packages\\ipykernel_launcher.py:10: DeprecationWarning: \n",
      ".ix is deprecated. Please use\n",
      ".loc for label based indexing or\n",
      ".iloc for positional indexing\n",
      "\n",
      "See the documentation here:\n",
      "http://pandas.pydata.org/pandas-docs/stable/indexing.html#ix-indexer-is-deprecated\n",
      "  # Remove the CWD from sys.path while we load stuff.\n",
      "c:\\users\\radeshpa\\appdata\\local\\programs\\python\\python36\\lib\\site-packages\\ipykernel_launcher.py:11: DeprecationWarning: \n",
      ".ix is deprecated. Please use\n",
      ".loc for label based indexing or\n",
      ".iloc for positional indexing\n",
      "\n",
      "See the documentation here:\n",
      "http://pandas.pydata.org/pandas-docs/stable/indexing.html#ix-indexer-is-deprecated\n",
      "  # This is added back by InteractiveShellApp.init_path()\n",
      "c:\\users\\radeshpa\\appdata\\local\\programs\\python\\python36\\lib\\site-packages\\ipykernel_launcher.py:14: DataConversionWarning: A column-vector y was passed when a 1d array was expected. Please change the shape of y to (n_samples,), for example using ravel().\n",
      "  \n",
      "c:\\users\\radeshpa\\appdata\\local\\programs\\python\\python36\\lib\\site-packages\\ipykernel_launcher.py:10: DeprecationWarning: \n",
      ".ix is deprecated. Please use\n",
      ".loc for label based indexing or\n",
      ".iloc for positional indexing\n",
      "\n",
      "See the documentation here:\n",
      "http://pandas.pydata.org/pandas-docs/stable/indexing.html#ix-indexer-is-deprecated\n",
      "  # Remove the CWD from sys.path while we load stuff.\n",
      "c:\\users\\radeshpa\\appdata\\local\\programs\\python\\python36\\lib\\site-packages\\ipykernel_launcher.py:11: DeprecationWarning: \n",
      ".ix is deprecated. Please use\n",
      ".loc for label based indexing or\n",
      ".iloc for positional indexing\n",
      "\n",
      "See the documentation here:\n",
      "http://pandas.pydata.org/pandas-docs/stable/indexing.html#ix-indexer-is-deprecated\n",
      "  # This is added back by InteractiveShellApp.init_path()\n",
      "c:\\users\\radeshpa\\appdata\\local\\programs\\python\\python36\\lib\\site-packages\\ipykernel_launcher.py:14: DataConversionWarning: A column-vector y was passed when a 1d array was expected. Please change the shape of y to (n_samples,), for example using ravel().\n",
      "  \n",
      "c:\\users\\radeshpa\\appdata\\local\\programs\\python\\python36\\lib\\site-packages\\ipykernel_launcher.py:10: DeprecationWarning: \n",
      ".ix is deprecated. Please use\n",
      ".loc for label based indexing or\n",
      ".iloc for positional indexing\n",
      "\n",
      "See the documentation here:\n",
      "http://pandas.pydata.org/pandas-docs/stable/indexing.html#ix-indexer-is-deprecated\n",
      "  # Remove the CWD from sys.path while we load stuff.\n",
      "c:\\users\\radeshpa\\appdata\\local\\programs\\python\\python36\\lib\\site-packages\\ipykernel_launcher.py:11: DeprecationWarning: \n",
      ".ix is deprecated. Please use\n",
      ".loc for label based indexing or\n",
      ".iloc for positional indexing\n",
      "\n",
      "See the documentation here:\n",
      "http://pandas.pydata.org/pandas-docs/stable/indexing.html#ix-indexer-is-deprecated\n",
      "  # This is added back by InteractiveShellApp.init_path()\n",
      "c:\\users\\radeshpa\\appdata\\local\\programs\\python\\python36\\lib\\site-packages\\ipykernel_launcher.py:14: DataConversionWarning: A column-vector y was passed when a 1d array was expected. Please change the shape of y to (n_samples,), for example using ravel().\n",
      "  \n",
      "c:\\users\\radeshpa\\appdata\\local\\programs\\python\\python36\\lib\\site-packages\\ipykernel_launcher.py:10: DeprecationWarning: \n",
      ".ix is deprecated. Please use\n",
      ".loc for label based indexing or\n",
      ".iloc for positional indexing\n",
      "\n",
      "See the documentation here:\n",
      "http://pandas.pydata.org/pandas-docs/stable/indexing.html#ix-indexer-is-deprecated\n",
      "  # Remove the CWD from sys.path while we load stuff.\n",
      "c:\\users\\radeshpa\\appdata\\local\\programs\\python\\python36\\lib\\site-packages\\ipykernel_launcher.py:11: DeprecationWarning: \n",
      ".ix is deprecated. Please use\n",
      ".loc for label based indexing or\n",
      ".iloc for positional indexing\n",
      "\n",
      "See the documentation here:\n",
      "http://pandas.pydata.org/pandas-docs/stable/indexing.html#ix-indexer-is-deprecated\n",
      "  # This is added back by InteractiveShellApp.init_path()\n",
      "c:\\users\\radeshpa\\appdata\\local\\programs\\python\\python36\\lib\\site-packages\\ipykernel_launcher.py:14: DataConversionWarning: A column-vector y was passed when a 1d array was expected. Please change the shape of y to (n_samples,), for example using ravel().\n",
      "  \n",
      "c:\\users\\radeshpa\\appdata\\local\\programs\\python\\python36\\lib\\site-packages\\ipykernel_launcher.py:10: DeprecationWarning: \n",
      ".ix is deprecated. Please use\n",
      ".loc for label based indexing or\n",
      ".iloc for positional indexing\n",
      "\n",
      "See the documentation here:\n",
      "http://pandas.pydata.org/pandas-docs/stable/indexing.html#ix-indexer-is-deprecated\n",
      "  # Remove the CWD from sys.path while we load stuff.\n",
      "c:\\users\\radeshpa\\appdata\\local\\programs\\python\\python36\\lib\\site-packages\\ipykernel_launcher.py:11: DeprecationWarning: \n",
      ".ix is deprecated. Please use\n",
      ".loc for label based indexing or\n",
      ".iloc for positional indexing\n",
      "\n",
      "See the documentation here:\n",
      "http://pandas.pydata.org/pandas-docs/stable/indexing.html#ix-indexer-is-deprecated\n",
      "  # This is added back by InteractiveShellApp.init_path()\n",
      "c:\\users\\radeshpa\\appdata\\local\\programs\\python\\python36\\lib\\site-packages\\ipykernel_launcher.py:14: DataConversionWarning: A column-vector y was passed when a 1d array was expected. Please change the shape of y to (n_samples,), for example using ravel().\n",
      "  \n"
     ]
    },
    {
     "data": {
      "text/plain": [
       "[86.11111111111111,\n",
       " 91.66666666666666,\n",
       " 97.14285714285714,\n",
       " 94.28571428571428,\n",
       " 91.42857142857143]"
      ]
     },
     "execution_count": 37,
     "metadata": {},
     "output_type": "execute_result"
    }
   ],
   "source": [
    "from sklearn.ensemble import ExtraTreesClassifier\n",
    "\n",
    "\n",
    "allExtraTreeAccuracyValues = []\n",
    "allExtraTreeFeatureImportanceValues = []\n",
    "allExtraTreeModels = []\n",
    "\n",
    "\n",
    "for train_index, test_index in kFolds.split(X):\n",
    "    X_train, X_test = X.ix[train_index], X.ix[test_index]\n",
    "    y_train, y_test = y.ix[train_index], y.ix[test_index]\n",
    "    num_trees = 10\n",
    "    extraTree = ExtraTreesClassifier(n_estimators=num_trees)\n",
    "    extraTreeResult = extraTree.fit(X_train, y_train)\n",
    "    y_prediction = extraTreeResult.predict(X_test)\n",
    "    y_actual = y_test['risk'].values\n",
    "    accuracy = (y_prediction == y_actual).sum()/len(y_actual)\n",
    "    \n",
    "    allExtraTreeAccuracyValues.append(accuracy * 100)\n",
    "    allExtraTreeFeatureImportanceValues.append(extraTreeResult.feature_importances_)\n",
    "    allExtraTreeModels.append(treeResult)\n",
    "    \n",
    "allExtraTreeAccuracyValues"
   ]
  },
  {
   "cell_type": "code",
   "execution_count": 38,
   "metadata": {},
   "outputs": [
    {
     "data": {
      "text/plain": [
       "array([0, 1], dtype=int64)"
      ]
     },
     "execution_count": 38,
     "metadata": {},
     "output_type": "execute_result"
    }
   ],
   "source": [
    "allExtraTreeModels[1].classes_"
   ]
  },
  {
   "cell_type": "code",
   "execution_count": 39,
   "metadata": {},
   "outputs": [
    {
     "data": {
      "image/png": "[encoded data removed]",
      "text/plain": [
       "<IPython.core.display.Image object>"
      ]
     },
     "execution_count": 39,
     "metadata": {},
     "output_type": "execute_result"
    }
   ],
   "source": [
    "from sklearn import tree\n",
    "import pydotplus\n",
    "from IPython.display import Image\n",
    "\n",
    "featureNames = X.columns.get_values().tolist()\n",
    "\n",
    "# You have to indicate the class names in ascending numerical order\n",
    "classNames = ['Not Ill', 'Ill']\n",
    "\n",
    "dot_data = tree.export_graphviz(allExtraTreeModels[1], out_file=None, feature_names=featureNames, class_names = classNames)\n",
    "\n",
    "# Draw graph\n",
    "graph = pydotplus.graph_from_dot_data(dot_data)  \n",
    "\n",
    "# Show graph\n",
    "image = Image(graph.create_png())\n",
    "\n",
    "\n",
    "# Create PNG\n",
    "graph.write_png(\"1k_extra_tree.png\")\n",
    "\n",
    "image\n",
    "\n",
    "# SOME ADDITIONAL NOTES\n",
    "# 1. The gini impurity is being used to determine which feature to split at.\n"
   ]
  },
  {
   "cell_type": "markdown",
   "metadata": {},
   "source": [
    "#### Write the accuracies of the Extra Trees Classifier to a csv file so we can analyze them later."
   ]
  },
  {
   "cell_type": "code",
   "execution_count": 40,
   "metadata": {},
   "outputs": [
    {
     "data": {
      "text/html": [
       "<div>\n",
       "<style scoped>\n",
       "    .dataframe tbody tr th:only-of-type {\n",
       "        vertical-align: middle;\n",
       "    }\n",
       "\n",
       "    .dataframe tbody tr th {\n",
       "        vertical-align: top;\n",
       "    }\n",
       "\n",
       "    .dataframe thead th {\n",
       "        text-align: right;\n",
       "    }\n",
       "</style>\n",
       "<table border=\"1\" class=\"dataframe\">\n",
       "  <thead>\n",
       "    <tr style=\"text-align: right;\">\n",
       "      <th></th>\n",
       "      <th>Accuracy</th>\n",
       "    </tr>\n",
       "  </thead>\n",
       "  <tbody>\n",
       "    <tr>\n",
       "      <th>0</th>\n",
       "      <td>86.111111</td>\n",
       "    </tr>\n",
       "    <tr>\n",
       "      <th>1</th>\n",
       "      <td>91.666667</td>\n",
       "    </tr>\n",
       "    <tr>\n",
       "      <th>2</th>\n",
       "      <td>97.142857</td>\n",
       "    </tr>\n",
       "    <tr>\n",
       "      <th>3</th>\n",
       "      <td>94.285714</td>\n",
       "    </tr>\n",
       "    <tr>\n",
       "      <th>4</th>\n",
       "      <td>91.428571</td>\n",
       "    </tr>\n",
       "  </tbody>\n",
       "</table>\n",
       "</div>"
      ],
      "text/plain": [
       "    Accuracy\n",
       "0  86.111111\n",
       "1  91.666667\n",
       "2  97.142857\n",
       "3  94.285714\n",
       "4  91.428571"
      ]
     },
     "execution_count": 40,
     "metadata": {},
     "output_type": "execute_result"
    }
   ],
   "source": [
    "extraTreeAccuracyValuesFrame = pd.DataFrame(allExtraTreeAccuracyValues, columns=['Accuracy'])\n",
    "extraTreeAccuracyValuesFrame.to_csv(\"data\\\\{}_extratrees_accuracyValues.csv\".format(dataSize))\n",
    "extraTreeAccuracyValuesFrame"
   ]
  },
  {
   "cell_type": "markdown",
   "metadata": {},
   "source": [
    "# Step 3.  Calculate the  Feature Importance Values"
   ]
  },
  {
   "cell_type": "markdown",
   "metadata": {},
   "source": [
    "### 3.1: Calculate for Extra Trees Classifier Feature Importance Values"
   ]
  },
  {
   "cell_type": "markdown",
   "metadata": {},
   "source": [
    "#### a. First acquire all the column names."
   ]
  },
  {
   "cell_type": "code",
   "execution_count": 41,
   "metadata": {},
   "outputs": [],
   "source": [
    "columnNames = X.columns.get_values().tolist()"
   ]
  },
  {
   "cell_type": "markdown",
   "metadata": {},
   "source": [
    "#### b. Get the important features for the extra trees classifier"
   ]
  },
  {
   "cell_type": "code",
   "execution_count": 42,
   "metadata": {},
   "outputs": [
    {
     "data": {
      "text/html": [
       "<div>\n",
       "<style scoped>\n",
       "    .dataframe tbody tr th:only-of-type {\n",
       "        vertical-align: middle;\n",
       "    }\n",
       "\n",
       "    .dataframe tbody tr th {\n",
       "        vertical-align: top;\n",
       "    }\n",
       "\n",
       "    .dataframe thead th {\n",
       "        text-align: right;\n",
       "    }\n",
       "</style>\n",
       "<table border=\"1\" class=\"dataframe\">\n",
       "  <thead>\n",
       "    <tr style=\"text-align: right;\">\n",
       "      <th></th>\n",
       "      <th>ENSG00000000003.13</th>\n",
       "      <th>ENSG00000002586.16</th>\n",
       "      <th>ENSG00000003436.13</th>\n",
       "      <th>ENSG00000004139.12</th>\n",
       "      <th>ENSG00000004399.11</th>\n",
       "      <th>ENSG00000005073.5</th>\n",
       "      <th>ENSG00000005108.14</th>\n",
       "      <th>ENSG00000005156.10</th>\n",
       "      <th>ENSG00000005249.11</th>\n",
       "      <th>ENSG00000005381.7</th>\n",
       "      <th>...</th>\n",
       "      <th>ENSG00000278969.1</th>\n",
       "      <th>ENSG00000279692.1</th>\n",
       "      <th>ENSG00000279766.1</th>\n",
       "      <th>ENSG00000279978.1</th>\n",
       "      <th>ENSG00000280206.1</th>\n",
       "      <th>ENSG00000280255.1</th>\n",
       "      <th>ENSG00000280303.2</th>\n",
       "      <th>ENSG00000280721.1</th>\n",
       "      <th>ENSG00000280777.1</th>\n",
       "      <th>ENSG00000281205.1</th>\n",
       "    </tr>\n",
       "  </thead>\n",
       "  <tbody>\n",
       "    <tr>\n",
       "      <th>0</th>\n",
       "      <td>0.0</td>\n",
       "      <td>0.000000</td>\n",
       "      <td>0.0</td>\n",
       "      <td>0.0</td>\n",
       "      <td>0.001913</td>\n",
       "      <td>0.000000</td>\n",
       "      <td>0.000000</td>\n",
       "      <td>0.0</td>\n",
       "      <td>0.0</td>\n",
       "      <td>0.000000</td>\n",
       "      <td>...</td>\n",
       "      <td>0.0</td>\n",
       "      <td>0.0</td>\n",
       "      <td>0.000000</td>\n",
       "      <td>0.002268</td>\n",
       "      <td>0.000000</td>\n",
       "      <td>0.0</td>\n",
       "      <td>0.0</td>\n",
       "      <td>0.0</td>\n",
       "      <td>0.00000</td>\n",
       "      <td>0.000000</td>\n",
       "    </tr>\n",
       "    <tr>\n",
       "      <th>1</th>\n",
       "      <td>0.0</td>\n",
       "      <td>0.000000</td>\n",
       "      <td>0.0</td>\n",
       "      <td>0.0</td>\n",
       "      <td>0.000000</td>\n",
       "      <td>0.000000</td>\n",
       "      <td>0.000000</td>\n",
       "      <td>0.0</td>\n",
       "      <td>0.0</td>\n",
       "      <td>0.000000</td>\n",
       "      <td>...</td>\n",
       "      <td>0.0</td>\n",
       "      <td>0.0</td>\n",
       "      <td>0.000000</td>\n",
       "      <td>0.000000</td>\n",
       "      <td>0.006263</td>\n",
       "      <td>0.0</td>\n",
       "      <td>0.0</td>\n",
       "      <td>0.0</td>\n",
       "      <td>0.00000</td>\n",
       "      <td>0.000000</td>\n",
       "    </tr>\n",
       "    <tr>\n",
       "      <th>2</th>\n",
       "      <td>0.0</td>\n",
       "      <td>0.000000</td>\n",
       "      <td>0.0</td>\n",
       "      <td>0.0</td>\n",
       "      <td>0.000000</td>\n",
       "      <td>0.000194</td>\n",
       "      <td>0.000000</td>\n",
       "      <td>0.0</td>\n",
       "      <td>0.0</td>\n",
       "      <td>0.000000</td>\n",
       "      <td>...</td>\n",
       "      <td>0.0</td>\n",
       "      <td>0.0</td>\n",
       "      <td>0.000000</td>\n",
       "      <td>0.000000</td>\n",
       "      <td>0.000000</td>\n",
       "      <td>0.0</td>\n",
       "      <td>0.0</td>\n",
       "      <td>0.0</td>\n",
       "      <td>0.00262</td>\n",
       "      <td>0.000000</td>\n",
       "    </tr>\n",
       "    <tr>\n",
       "      <th>3</th>\n",
       "      <td>0.0</td>\n",
       "      <td>0.000000</td>\n",
       "      <td>0.0</td>\n",
       "      <td>0.0</td>\n",
       "      <td>0.000000</td>\n",
       "      <td>0.002320</td>\n",
       "      <td>0.000000</td>\n",
       "      <td>0.0</td>\n",
       "      <td>0.0</td>\n",
       "      <td>0.010767</td>\n",
       "      <td>...</td>\n",
       "      <td>0.0</td>\n",
       "      <td>0.0</td>\n",
       "      <td>0.000215</td>\n",
       "      <td>0.000000</td>\n",
       "      <td>0.000000</td>\n",
       "      <td>0.0</td>\n",
       "      <td>0.0</td>\n",
       "      <td>0.0</td>\n",
       "      <td>0.00000</td>\n",
       "      <td>0.000000</td>\n",
       "    </tr>\n",
       "    <tr>\n",
       "      <th>4</th>\n",
       "      <td>0.0</td>\n",
       "      <td>0.022774</td>\n",
       "      <td>0.0</td>\n",
       "      <td>0.0</td>\n",
       "      <td>0.000000</td>\n",
       "      <td>0.005878</td>\n",
       "      <td>0.009019</td>\n",
       "      <td>0.0</td>\n",
       "      <td>0.0</td>\n",
       "      <td>0.000000</td>\n",
       "      <td>...</td>\n",
       "      <td>0.0</td>\n",
       "      <td>0.0</td>\n",
       "      <td>0.000000</td>\n",
       "      <td>0.000000</td>\n",
       "      <td>0.000311</td>\n",
       "      <td>0.0</td>\n",
       "      <td>0.0</td>\n",
       "      <td>0.0</td>\n",
       "      <td>0.00000</td>\n",
       "      <td>0.002405</td>\n",
       "    </tr>\n",
       "  </tbody>\n",
       "</table>\n",
       "<p>5 rows × 1017 columns</p>\n",
       "</div>"
      ],
      "text/plain": [
       "   ENSG00000000003.13  ENSG00000002586.16  ENSG00000003436.13  \\\n",
       "0                 0.0            0.000000                 0.0   \n",
       "1                 0.0            0.000000                 0.0   \n",
       "2                 0.0            0.000000                 0.0   \n",
       "3                 0.0            0.000000                 0.0   \n",
       "4                 0.0            0.022774                 0.0   \n",
       "\n",
       "   ENSG00000004139.12  ENSG00000004399.11  ENSG00000005073.5  \\\n",
       "0                 0.0            0.001913           0.000000   \n",
       "1                 0.0            0.000000           0.000000   \n",
       "2                 0.0            0.000000           0.000194   \n",
       "3                 0.0            0.000000           0.002320   \n",
       "4                 0.0            0.000000           0.005878   \n",
       "\n",
       "   ENSG00000005108.14  ENSG00000005156.10  ENSG00000005249.11  \\\n",
       "0            0.000000                 0.0                 0.0   \n",
       "1            0.000000                 0.0                 0.0   \n",
       "2            0.000000                 0.0                 0.0   \n",
       "3            0.000000                 0.0                 0.0   \n",
       "4            0.009019                 0.0                 0.0   \n",
       "\n",
       "   ENSG00000005381.7  ...  ENSG00000278969.1  ENSG00000279692.1  \\\n",
       "0           0.000000  ...                0.0                0.0   \n",
       "1           0.000000  ...                0.0                0.0   \n",
       "2           0.000000  ...                0.0                0.0   \n",
       "3           0.010767  ...                0.0                0.0   \n",
       "4           0.000000  ...                0.0                0.0   \n",
       "\n",
       "   ENSG00000279766.1  ENSG00000279978.1  ENSG00000280206.1  ENSG00000280255.1  \\\n",
       "0           0.000000           0.002268           0.000000                0.0   \n",
       "1           0.000000           0.000000           0.006263                0.0   \n",
       "2           0.000000           0.000000           0.000000                0.0   \n",
       "3           0.000215           0.000000           0.000000                0.0   \n",
       "4           0.000000           0.000000           0.000311                0.0   \n",
       "\n",
       "   ENSG00000280303.2  ENSG00000280721.1  ENSG00000280777.1  ENSG00000281205.1  \n",
       "0                0.0                0.0            0.00000           0.000000  \n",
       "1                0.0                0.0            0.00000           0.000000  \n",
       "2                0.0                0.0            0.00262           0.000000  \n",
       "3                0.0                0.0            0.00000           0.000000  \n",
       "4                0.0                0.0            0.00000           0.002405  \n",
       "\n",
       "[5 rows x 1017 columns]"
      ]
     },
     "execution_count": 42,
     "metadata": {},
     "output_type": "execute_result"
    }
   ],
   "source": [
    "import pandas as pd\n",
    "\n",
    "extraTreeGiniValuesFrame = pd.DataFrame(columns=columnNames)\n",
    "extraTreeGiniValuesFrame.columns = columnNames\n",
    "\n",
    "# Iterate over the feature importance values for every model.\n",
    "for i in range(len(allExtraTreeFeatureImportanceValues)):    \n",
    "    extraTreeGiniValuesFrame = extraTreeGiniValuesFrame.append(dict(zip(columnNames, allExtraTreeFeatureImportanceValues[i])), ignore_index=True)\n",
    "\n",
    "directory = 'data\\\\{}'.format(dataSize)\n",
    "import os\n",
    "if not os.path.exists(directory):\n",
    "    os.makedirs(directory)\n",
    "\n",
    "# Write the results to a CSV File.\n",
    "outputFileName = 'data\\\\{}\\\\{}_extra_tree_feature_importance_all.csv'.format(dataSize, dataSize)\n",
    "extraTreeGiniValuesFrame.to_csv(outputFileName)\n",
    "extraTreeGiniValuesFrame"
   ]
  },
  {
   "cell_type": "markdown",
   "metadata": {},
   "source": [
    "#### c. Now get the mean for every gene, and then sort the genes based on mean importance. This is useful for analysis"
   ]
  },
  {
   "cell_type": "code",
   "execution_count": 43,
   "metadata": {},
   "outputs": [
    {
     "data": {
      "text/html": [
       "<div>\n",
       "<style scoped>\n",
       "    .dataframe tbody tr th:only-of-type {\n",
       "        vertical-align: middle;\n",
       "    }\n",
       "\n",
       "    .dataframe tbody tr th {\n",
       "        vertical-align: top;\n",
       "    }\n",
       "\n",
       "    .dataframe thead th {\n",
       "        text-align: right;\n",
       "    }\n",
       "</style>\n",
       "<table border=\"1\" class=\"dataframe\">\n",
       "  <thead>\n",
       "    <tr style=\"text-align: right;\">\n",
       "      <th></th>\n",
       "      <th>ENSG00000122592.7</th>\n",
       "      <th>ENSG00000260182.1</th>\n",
       "      <th>ENSG00000254369.5</th>\n",
       "      <th>ENSG00000132975.7</th>\n",
       "      <th>ENSG00000105997.21</th>\n",
       "      <th>ENSG00000253187.2</th>\n",
       "      <th>ENSG00000078399.14</th>\n",
       "      <th>ENSG00000179954.13</th>\n",
       "      <th>ENSG00000257718.1</th>\n",
       "      <th>ENSG00000257883.1</th>\n",
       "      <th>...</th>\n",
       "      <th>ENSG00000148219.15</th>\n",
       "      <th>ENSG00000150054.17</th>\n",
       "      <th>ENSG00000154133.13</th>\n",
       "      <th>ENSG00000150540.12</th>\n",
       "      <th>ENSG00000150627.14</th>\n",
       "      <th>ENSG00000151150.19</th>\n",
       "      <th>ENSG00000151917.16</th>\n",
       "      <th>ENSG00000152556.14</th>\n",
       "      <th>ENSG00000154016.12</th>\n",
       "      <th>ENSG00000158560.13</th>\n",
       "    </tr>\n",
       "  </thead>\n",
       "  <tbody>\n",
       "    <tr>\n",
       "      <th>0</th>\n",
       "      <td>0.023356</td>\n",
       "      <td>0.023334</td>\n",
       "      <td>0.021824</td>\n",
       "      <td>0.01985</td>\n",
       "      <td>0.019569</td>\n",
       "      <td>0.015285</td>\n",
       "      <td>0.014821</td>\n",
       "      <td>0.013993</td>\n",
       "      <td>0.013784</td>\n",
       "      <td>0.012998</td>\n",
       "      <td>...</td>\n",
       "      <td>0.0</td>\n",
       "      <td>0.0</td>\n",
       "      <td>0.0</td>\n",
       "      <td>0.0</td>\n",
       "      <td>0.0</td>\n",
       "      <td>0.0</td>\n",
       "      <td>0.0</td>\n",
       "      <td>0.0</td>\n",
       "      <td>0.0</td>\n",
       "      <td>0.0</td>\n",
       "    </tr>\n",
       "  </tbody>\n",
       "</table>\n",
       "<p>1 rows × 1017 columns</p>\n",
       "</div>"
      ],
      "text/plain": [
       "   ENSG00000122592.7  ENSG00000260182.1  ENSG00000254369.5  ENSG00000132975.7  \\\n",
       "0           0.023356           0.023334           0.021824            0.01985   \n",
       "\n",
       "   ENSG00000105997.21  ENSG00000253187.2  ENSG00000078399.14  \\\n",
       "0            0.019569           0.015285            0.014821   \n",
       "\n",
       "   ENSG00000179954.13  ENSG00000257718.1  ENSG00000257883.1  ...  \\\n",
       "0            0.013993           0.013784           0.012998  ...   \n",
       "\n",
       "   ENSG00000148219.15  ENSG00000150054.17  ENSG00000154133.13  \\\n",
       "0                 0.0                 0.0                 0.0   \n",
       "\n",
       "   ENSG00000150540.12  ENSG00000150627.14  ENSG00000151150.19  \\\n",
       "0                 0.0                 0.0                 0.0   \n",
       "\n",
       "   ENSG00000151917.16  ENSG00000152556.14  ENSG00000154016.12  \\\n",
       "0                 0.0                 0.0                 0.0   \n",
       "\n",
       "   ENSG00000158560.13  \n",
       "0                 0.0  \n",
       "\n",
       "[1 rows x 1017 columns]"
      ]
     },
     "execution_count": 43,
     "metadata": {},
     "output_type": "execute_result"
    }
   ],
   "source": [
    "# Calculate the mean importance for all the genes for Extra Trees\n",
    "extraTreeGiniValuesFrameMean = pd.DataFrame(columns = extraTreeGiniValuesFrame.columns)\n",
    "extraTreeGiniValuesFrameMean.loc[0] = extraTreeGiniValuesFrame.mean()\n",
    "# Sort the results based on importance values\n",
    "extraTreeGiniValuesFrameMean = extraTreeGiniValuesFrameMean.sort_values(extraTreeGiniValuesFrameMean.last_valid_index(), axis=1, ascending = False)\n",
    "extraTreeGiniValuesFrameMean"
   ]
  },
  {
   "cell_type": "markdown",
   "metadata": {},
   "source": [
    "#### d. Write the importance to a csv file"
   ]
  },
  {
   "cell_type": "code",
   "execution_count": 44,
   "metadata": {},
   "outputs": [],
   "source": [
    "# Write the results to a CSV File\n",
    "extraTreeGiniValuesFrameMean.transpose().to_csv(\"data\\\\{}\\\\{}_extra_trees_feature_importance_average.csv\".format(dataSize, dataSize))"
   ]
  },
  {
   "cell_type": "markdown",
   "metadata": {},
   "source": [
    "## Calculate the Importance for Decision Tree"
   ]
  },
  {
   "cell_type": "code",
   "execution_count": 45,
   "metadata": {},
   "outputs": [
    {
     "data": {
      "text/plain": [
       "[array([0., 0., 0., ..., 0., 0., 0.]),\n",
       " array([0., 0., 0., ..., 0., 0., 0.]),\n",
       " array([0.        , 0.        , 0.        , ..., 0.        , 0.        ,\n",
       "        0.05606721]),\n",
       " array([0.        , 0.        , 0.04252944, ..., 0.        , 0.        ,\n",
       "        0.        ]),\n",
       " array([0., 0., 0., ..., 0., 0., 0.])]"
      ]
     },
     "execution_count": 45,
     "metadata": {},
     "output_type": "execute_result"
    }
   ],
   "source": [
    "allTreeFeatureImportanceValues"
   ]
  },
  {
   "cell_type": "markdown",
   "metadata": {},
   "source": [
    "#### Create a frame that has the coefficients for every fold. Write that frame to a csv file. "
   ]
  },
  {
   "cell_type": "code",
   "execution_count": 46,
   "metadata": {},
   "outputs": [],
   "source": [
    "import pandas as pd\n",
    "\n",
    "decisionTreeGiniValuesFrame = pd.DataFrame(columns=columnNames)\n",
    "decisionTreeGiniValuesFrame.columns = columnNames\n",
    "decisionTreeGiniValuesFrame\n",
    "\n",
    "for i in range(len(allTreeFeatureImportanceValues)):    \n",
    "    decisionTreeGiniValuesFrame = decisionTreeGiniValuesFrame.append(dict(zip(columnNames, allTreeFeatureImportanceValues[i])), ignore_index=True)\n",
    "\n",
    "decisionTreeGiniValuesFrame\n",
    "outputFileName = 'data\\\\{}\\\\{}_decisiontree_feature_importance_all.csv'.format(dataSize, dataSize)\n",
    "decisionTreeGiniValuesFrame.to_csv(outputFileName)"
   ]
  },
  {
   "cell_type": "code",
   "execution_count": 47,
   "metadata": {},
   "outputs": [],
   "source": [
    "decisionTreeGiniValuesFrame\n",
    "outputFileName = 'data\\\\{}\\\\{}_decisiontree_feature_importance_all.csv'.format(dataSize, dataSize)\n",
    "decisionTreeGiniValuesFrame.to_csv(outputFileName)"
   ]
  },
  {
   "cell_type": "markdown",
   "metadata": {},
   "source": [
    "### For analysis, acquire the mean value of the importance of every gene for all the folds. Write that to a csv file as well."
   ]
  },
  {
   "cell_type": "code",
   "execution_count": 48,
   "metadata": {},
   "outputs": [
    {
     "data": {
      "text/html": [
       "<div>\n",
       "<style scoped>\n",
       "    .dataframe tbody tr th:only-of-type {\n",
       "        vertical-align: middle;\n",
       "    }\n",
       "\n",
       "    .dataframe tbody tr th {\n",
       "        vertical-align: top;\n",
       "    }\n",
       "\n",
       "    .dataframe thead th {\n",
       "        text-align: right;\n",
       "    }\n",
       "</style>\n",
       "<table border=\"1\" class=\"dataframe\">\n",
       "  <thead>\n",
       "    <tr style=\"text-align: right;\">\n",
       "      <th></th>\n",
       "      <th>ENSG00000170893.3</th>\n",
       "      <th>ENSG00000106006.6</th>\n",
       "      <th>ENSG00000267453.5</th>\n",
       "      <th>ENSG00000254369.5</th>\n",
       "      <th>ENSG00000135842.15</th>\n",
       "      <th>ENSG00000270182.1</th>\n",
       "      <th>ENSG00000158427.13</th>\n",
       "      <th>ENSG00000148219.15</th>\n",
       "      <th>ENSG00000116544.10</th>\n",
       "      <th>ENSG00000281205.1</th>\n",
       "      <th>...</th>\n",
       "      <th>ENSG00000134242.14</th>\n",
       "      <th>ENSG00000134470.18</th>\n",
       "      <th>ENSG00000134531.8</th>\n",
       "      <th>ENSG00000134569.8</th>\n",
       "      <th>ENSG00000134590.12</th>\n",
       "      <th>ENSG00000134716.8</th>\n",
       "      <th>ENSG00000135069.12</th>\n",
       "      <th>ENSG00000135077.7</th>\n",
       "      <th>ENSG00000135272.8</th>\n",
       "      <th>ENSG00000158560.13</th>\n",
       "    </tr>\n",
       "  </thead>\n",
       "  <tbody>\n",
       "    <tr>\n",
       "      <th>0</th>\n",
       "      <td>0.630603</td>\n",
       "      <td>0.073739</td>\n",
       "      <td>0.053003</td>\n",
       "      <td>0.032299</td>\n",
       "      <td>0.025288</td>\n",
       "      <td>0.019858</td>\n",
       "      <td>0.015346</td>\n",
       "      <td>0.012076</td>\n",
       "      <td>0.011879</td>\n",
       "      <td>0.011213</td>\n",
       "      <td>...</td>\n",
       "      <td>0.0</td>\n",
       "      <td>0.0</td>\n",
       "      <td>0.0</td>\n",
       "      <td>0.0</td>\n",
       "      <td>0.0</td>\n",
       "      <td>0.0</td>\n",
       "      <td>0.0</td>\n",
       "      <td>0.0</td>\n",
       "      <td>0.0</td>\n",
       "      <td>0.0</td>\n",
       "    </tr>\n",
       "  </tbody>\n",
       "</table>\n",
       "<p>1 rows × 1017 columns</p>\n",
       "</div>"
      ],
      "text/plain": [
       "   ENSG00000170893.3  ENSG00000106006.6  ENSG00000267453.5  ENSG00000254369.5  \\\n",
       "0           0.630603           0.073739           0.053003           0.032299   \n",
       "\n",
       "   ENSG00000135842.15  ENSG00000270182.1  ENSG00000158427.13  \\\n",
       "0            0.025288           0.019858            0.015346   \n",
       "\n",
       "   ENSG00000148219.15  ENSG00000116544.10  ENSG00000281205.1  ...  \\\n",
       "0            0.012076            0.011879           0.011213  ...   \n",
       "\n",
       "   ENSG00000134242.14  ENSG00000134470.18  ENSG00000134531.8  \\\n",
       "0                 0.0                 0.0                0.0   \n",
       "\n",
       "   ENSG00000134569.8  ENSG00000134590.12  ENSG00000134716.8  \\\n",
       "0                0.0                 0.0                0.0   \n",
       "\n",
       "   ENSG00000135069.12  ENSG00000135077.7  ENSG00000135272.8  \\\n",
       "0                 0.0                0.0                0.0   \n",
       "\n",
       "   ENSG00000158560.13  \n",
       "0                 0.0  \n",
       "\n",
       "[1 rows x 1017 columns]"
      ]
     },
     "execution_count": 48,
     "metadata": {},
     "output_type": "execute_result"
    }
   ],
   "source": [
    "# Calculate the mean importance for all the genes for Extra Trees\n",
    "# And then store the results in a new frame.\n",
    "decisionTreeGiniValuesFrameMean = pd.DataFrame(columns = decisionTreeGiniValuesFrame.columns)\n",
    "decisionTreeGiniValuesFrameMean.loc[0] = decisionTreeGiniValuesFrame.mean()\n",
    "# Sort the results based on importance values\n",
    "decisionTreeGiniValuesFrameMean = decisionTreeGiniValuesFrameMean.sort_values(decisionTreeGiniValuesFrameMean.last_valid_index(), axis=1, ascending = False)\n",
    "\n",
    "outputFileName = 'data\\\\{}\\\\{}_decisiontree_feature_importance_average.csv'.format(dataSize, dataSize)\n",
    "decisionTreeGiniValuesFrameMean.transpose().to_csv(outputFileName)\n",
    "decisionTreeGiniValuesFrameMean"
   ]
  },
  {
   "cell_type": "markdown",
   "metadata": {},
   "source": [
    "# Step 4. Data Analysis"
   ]
  },
  {
   "cell_type": "markdown",
   "metadata": {},
   "source": [
    "#### a. Get all the genes that are relevant for the decision tree classifier. "
   ]
  },
  {
   "cell_type": "markdown",
   "metadata": {},
   "source": [
    "### Figure out the genes that are common between the decision tree and the extra tree."
   ]
  },
  {
   "cell_type": "code",
   "execution_count": 49,
   "metadata": {},
   "outputs": [],
   "source": [
    "# Find the common columns\n",
    "decisionTreeColumns = [col for col in decisionTreeGiniValuesFrameMean.columns if decisionTreeGiniValuesFrameMean[col].iloc[0] > 0]\n",
    "extraTreeColumns = [col for col in extraTreeGiniValuesFrameMean.columns if extraTreeGiniValuesFrameMean[col].iloc[0] > 0]\n",
    "decisionTreeColumns\n",
    "extraTreeColumns\n",
    "\n",
    "# Find the common columns\n",
    "commonColumns = set(decisionTreeColumns).intersection(extraTreeColumns)\n",
    "\n",
    "\n",
    "# Filter the importance values for these columns only\n",
    "commonTreeImportanceValues = decisionTreeGiniValuesFrameMean[list(commonColumns)]\n",
    "commonExtraTreeImportanceValues = extraTreeGiniValuesFrameMean[list(commonColumns)]\n",
    "\n",
    "commonTreeImportanceValues.T.to_csv(\"data\\\\{}\\\\{}_decision_tree_common_importance.csv\".format(dataSize,dataSize))\n",
    "commonExtraTreeImportanceValues.T.to_csv(\"data\\\\{}\\\\{}_extra_tree_common_importance.csv\".format(dataSize,dataSize))\n"
   ]
  },
  {
   "cell_type": "markdown",
   "metadata": {},
   "source": [
    "# Visualizations"
   ]
  },
  {
   "cell_type": "code",
   "execution_count": null,
   "metadata": {},
   "outputs": [],
   "source": [
    "#  Let us see the distribution of the classes"
   ]
  },
  {
   "cell_type": "code",
   "execution_count": null,
   "metadata": {},
   "outputs": [],
   "source": [
    "# Combine the data from the two files"
   ]
  },
  {
   "cell_type": "markdown",
   "metadata": {},
   "source": [
    "### Step 1. Display the accuracy variation for the decision tree model."
   ]
  },
  {
   "cell_type": "code",
   "execution_count": 50,
   "metadata": {},
   "outputs": [
    {
     "data": {
      "image/png": "[encoded data removed]",
      "text/plain": [
       "<Figure size 1440x504 with 1 Axes>"
      ]
     },
     "metadata": {
      "needs_background": "light"
     },
     "output_type": "display_data"
    }
   ],
   "source": [
    "# Create Visualizations for the Accuracy of multiple folds for Decision Tree Classifier\n",
    "# This is typically useful when for instance we have a larger number of folds, and would like to examine how the\n",
    "# accuracy is changing for the classifier over the folds - whether it is steady or not.\n",
    "# Display Accuracy of Decision Tree - All Folds\n",
    "\n",
    "# Create transpose for plotting\n",
    "treeAccuracyValuesFrameTranspose = treeAccuracyValuesFrame.T \n",
    "treeAccuracyValuesFrameTranspose\n",
    "\n",
    "\n",
    "import matplotlib.pyplot as plt\n",
    "from IPython.display import Image\n",
    "\n",
    "%matplotlib inline\n",
    "\n",
    "fig = plt.figure(figsize=(20,7))\n",
    "\n",
    "plt.bar(treeAccuracyValuesFrameTranspose.columns.values, treeAccuracyValuesFrameTranspose.iloc[0].values, align='center', alpha=1)\n",
    "plt.title('Accuracy over the folds for sklearn.DecisionTreeClassifier over 1000 gene data set')\n",
    "plt.ylabel('Accuracy (%)')\n",
    "plt.xlabel('Fold Index')\n",
    "plt.savefig(\"visualizations\\\\{}\\\\{}_decision_tree_accuracy.png\".format(dataSize, dataSize))\n",
    "\n",
    "plt.show()\n",
    "# Save the file\n",
    "# Show graph"
   ]
  },
  {
   "cell_type": "markdown",
   "metadata": {},
   "source": [
    "### Step 2. Display the accuracy variation for the decision tree model."
   ]
  },
  {
   "cell_type": "code",
   "execution_count": 51,
   "metadata": {},
   "outputs": [
    {
     "data": {
      "image/png": "[encoded data removed]",
      "text/plain": [
       "<Figure size 1440x504 with 1 Axes>"
      ]
     },
     "metadata": {
      "needs_background": "light"
     },
     "output_type": "display_data"
    }
   ],
   "source": [
    "# Create Visualizations for the Accuracy of multiple folds for Decision Tree Classifier\n",
    "# This is typically useful when for instance we have a larger number of folds, and would like to examine how the\n",
    "# accuracy is changing for the classifier over the folds - whether it is steady or not.\n",
    "# Display Accuracy of Decision Tree - All Folds\n",
    "\n",
    "# Create transpose for plotting\n",
    "extraTreeAccuracyValuesFrameTranspose = extraTreeAccuracyValuesFrame.T \n",
    "extraTreeAccuracyValuesFrameTranspose\n",
    "\n",
    "\n",
    "import matplotlib.pyplot as plt\n",
    "from IPython.display import Image\n",
    "\n",
    "%matplotlib inline\n",
    "\n",
    "fig = plt.figure(figsize=(20,7))\n",
    "\n",
    "plt.bar(extraTreeAccuracyValuesFrameTranspose.columns.values, extraTreeAccuracyValuesFrameTranspose.iloc[0].values, align='center', alpha=1)\n",
    "plt.title('Accuracy over the folds for sklearn.ExtraTreesClassifier over 1000 gene data set')\n",
    "plt.ylabel('Accuracy (%)')\n",
    "plt.xlabel('Fold Index')\n",
    "plt.savefig(\"visualizations\\\\{}\\\\{}_extra_tree_accuracy.png\".format(dataSize, dataSize))\n",
    "\n",
    "plt.show()\n",
    "# Save the file\n",
    "# Show graph"
   ]
  },
  {
   "cell_type": "markdown",
   "metadata": {},
   "source": [
    "## Step 3. Show Importance of the Genes  in Descending Order, for Extra Tree Classifier (only the top 20 ones for clarity)"
   ]
  },
  {
   "cell_type": "code",
   "execution_count": null,
   "metadata": {},
   "outputs": [],
   "source": []
  },
  {
   "cell_type": "code",
   "execution_count": 79,
   "metadata": {},
   "outputs": [
    {
     "data": {
      "image/png": "[encoded data removed]",
      "text/plain": [
       "<Figure size 432x288 with 1 Axes>"
      ]
     },
     "metadata": {
      "needs_background": "light"
     },
     "output_type": "display_data"
    }
   ],
   "source": [
    "X.T.shape[0]\n",
    "import numpy as np\n",
    "import matplotlib.pyplot as plt\n",
    "\n",
    "# Define the two groups \n",
    "#group1 = ['France', 'Italy', 'Spain', 'Portugal', 'Germany'] \n",
    "group1 = X.columns.values\n",
    "group1\n",
    "group2 = X_Original['entity_id'].values\n",
    "group2\n",
    "\n",
    "data = X.T.values\n",
    "data.shape\n",
    "# Create a figure\n",
    "fig, ax = plt.subplots()\n",
    "\n",
    "heatmap = ax.pcolor(data, cmap=plt.cm.gray)\n",
    "# Add major ticks at the middle of each cell\n",
    "ax.set_xticks(np.arange(data.shape[0]) + 0.5, minor=False)\n",
    "ax.set_yticks(np.arange(data.shape[1]) + 0.5, minor=False)\n",
    "\n",
    "# Make it look like a table \n",
    "ax.invert_yaxis()\n",
    "ax.xaxis.tick_top()\n",
    "\n",
    "# Add tick labels\n",
    "ax.set_xticklabels(group2, minor=False)\n",
    "ax.set_yticklabels(group1, minor=False)\n",
    "\n",
    "plt.show()"
   ]
  },
  {
   "cell_type": "code",
   "execution_count": 64,
   "metadata": {},
   "outputs": [
    {
     "data": {
      "image/png": "[encoded data removed]",
      "text/plain": [
       "<Figure size 432x288 with 1 Axes>"
      ]
     },
     "metadata": {
      "needs_background": "light"
     },
     "output_type": "display_data"
    }
   ],
   "source": [
    "import numpy as np\n",
    "import matplotlib.pyplot as plt\n",
    "\n",
    "# Define the two groups \n",
    "#group1 = ['France', 'Italy', 'Spain', 'Portugal', 'Germany'] \n",
    "group1 = X.columns.values.to_list()\n",
    "group2 = ['Japan', 'China', 'Brazil', 'Russia', 'Australia']\n",
    "\n",
    "# Generate some random values\n",
    "data = np.random.rand(5, 5)\n",
    "\n",
    "# Create a figure\n",
    "fig, ax = plt.subplots()\n",
    "\n",
    "# Create the heat map\n",
    "heatmap = ax.pcolor(data, cmap=plt.cm.gray)\n",
    "\n",
    "# Add major ticks at the middle of each cell\n",
    "ax.set_xticks(np.arange(data.shape[0]) + 0.5, minor=False)\n",
    "ax.set_yticks(np.arange(data.shape[1]) + 0.5, minor=False)\n",
    "\n",
    "# Make it look like a table \n",
    "ax.invert_yaxis()\n",
    "ax.xaxis.tick_top()\n",
    "\n",
    "# Add tick labels\n",
    "ax.set_xticklabels(group2, minor=False)\n",
    "ax.set_yticklabels(group1, minor=False)\n",
    "\n",
    "plt.show()"
   ]
  },
  {
   "cell_type": "code",
   "execution_count": 58,
   "metadata": {},
   "outputs": [
    {
     "data": {
      "text/html": [
       "<div>\n",
       "<style scoped>\n",
       "    .dataframe tbody tr th:only-of-type {\n",
       "        vertical-align: middle;\n",
       "    }\n",
       "\n",
       "    .dataframe tbody tr th {\n",
       "        vertical-align: top;\n",
       "    }\n",
       "\n",
       "    .dataframe thead th {\n",
       "        text-align: right;\n",
       "    }\n",
       "</style>\n",
       "<table border=\"1\" class=\"dataframe\">\n",
       "  <thead>\n",
       "    <tr style=\"text-align: right;\">\n",
       "      <th></th>\n",
       "      <th>entity_id</th>\n",
       "      <th>ENSG00000000003.13</th>\n",
       "      <th>ENSG00000002586.16</th>\n",
       "      <th>ENSG00000003436.13</th>\n",
       "      <th>ENSG00000004139.12</th>\n",
       "      <th>ENSG00000004399.11</th>\n",
       "      <th>ENSG00000005073.5</th>\n",
       "      <th>ENSG00000005108.14</th>\n",
       "      <th>ENSG00000005156.10</th>\n",
       "      <th>ENSG00000005249.11</th>\n",
       "      <th>...</th>\n",
       "      <th>ENSG00000278969.1</th>\n",
       "      <th>ENSG00000279692.1</th>\n",
       "      <th>ENSG00000279766.1</th>\n",
       "      <th>ENSG00000279978.1</th>\n",
       "      <th>ENSG00000280206.1</th>\n",
       "      <th>ENSG00000280255.1</th>\n",
       "      <th>ENSG00000280303.2</th>\n",
       "      <th>ENSG00000280721.1</th>\n",
       "      <th>ENSG00000280777.1</th>\n",
       "      <th>ENSG00000281205.1</th>\n",
       "    </tr>\n",
       "  </thead>\n",
       "  <tbody>\n",
       "    <tr>\n",
       "      <th>0</th>\n",
       "      <td>c78f2949-4050-5f14-a401-beddf3ff9f61</td>\n",
       "      <td>-3.317718</td>\n",
       "      <td>7.573619</td>\n",
       "      <td>7.496639</td>\n",
       "      <td>0.030044</td>\n",
       "      <td>5.451009</td>\n",
       "      <td>-5.407333</td>\n",
       "      <td>-6.927145</td>\n",
       "      <td>4.093628</td>\n",
       "      <td>1.013300</td>\n",
       "      <td>...</td>\n",
       "      <td>-2.378064</td>\n",
       "      <td>0.875287</td>\n",
       "      <td>3.787028</td>\n",
       "      <td>4.391355</td>\n",
       "      <td>3.704522</td>\n",
       "      <td>-5.407333</td>\n",
       "      <td>0.566979</td>\n",
       "      <td>3.611587</td>\n",
       "      <td>0.030044</td>\n",
       "      <td>-2.267335</td>\n",
       "    </tr>\n",
       "    <tr>\n",
       "      <th>1</th>\n",
       "      <td>1507ac24-8ba2-5e57-a05a-86b5157c8377</td>\n",
       "      <td>-1.780950</td>\n",
       "      <td>7.051258</td>\n",
       "      <td>3.346200</td>\n",
       "      <td>2.184251</td>\n",
       "      <td>6.213580</td>\n",
       "      <td>-3.720951</td>\n",
       "      <td>-3.230079</td>\n",
       "      <td>5.109320</td>\n",
       "      <td>6.010799</td>\n",
       "      <td>...</td>\n",
       "      <td>-5.229235</td>\n",
       "      <td>0.689439</td>\n",
       "      <td>-0.711582</td>\n",
       "      <td>4.986294</td>\n",
       "      <td>2.566059</td>\n",
       "      <td>-1.209631</td>\n",
       "      <td>-1.908319</td>\n",
       "      <td>-1.272516</td>\n",
       "      <td>-0.626973</td>\n",
       "      <td>0.678398</td>\n",
       "    </tr>\n",
       "    <tr>\n",
       "      <th>2</th>\n",
       "      <td>5f49d1ae-e832-59de-89e1-93b6327232f0</td>\n",
       "      <td>-0.160015</td>\n",
       "      <td>7.439541</td>\n",
       "      <td>4.448980</td>\n",
       "      <td>2.122186</td>\n",
       "      <td>4.564866</td>\n",
       "      <td>-2.917363</td>\n",
       "      <td>-4.025029</td>\n",
       "      <td>4.699963</td>\n",
       "      <td>5.416719</td>\n",
       "      <td>...</td>\n",
       "      <td>-4.516583</td>\n",
       "      <td>1.316872</td>\n",
       "      <td>1.046554</td>\n",
       "      <td>4.310124</td>\n",
       "      <td>2.350056</td>\n",
       "      <td>-2.298227</td>\n",
       "      <td>-0.710189</td>\n",
       "      <td>1.347360</td>\n",
       "      <td>-1.775996</td>\n",
       "      <td>-1.962853</td>\n",
       "    </tr>\n",
       "    <tr>\n",
       "      <th>3</th>\n",
       "      <td>9d464669-4fa5-5c48-b1b0-f452bee4682e</td>\n",
       "      <td>-2.056501</td>\n",
       "      <td>8.326120</td>\n",
       "      <td>-0.251195</td>\n",
       "      <td>2.746839</td>\n",
       "      <td>7.067713</td>\n",
       "      <td>0.814961</td>\n",
       "      <td>-0.764468</td>\n",
       "      <td>4.309663</td>\n",
       "      <td>3.253584</td>\n",
       "      <td>...</td>\n",
       "      <td>-3.252098</td>\n",
       "      <td>2.039168</td>\n",
       "      <td>-0.186234</td>\n",
       "      <td>4.404977</td>\n",
       "      <td>2.689578</td>\n",
       "      <td>-6.927145</td>\n",
       "      <td>-0.672618</td>\n",
       "      <td>-4.747010</td>\n",
       "      <td>-1.449441</td>\n",
       "      <td>-4.143354</td>\n",
       "    </tr>\n",
       "    <tr>\n",
       "      <th>4</th>\n",
       "      <td>dcc4d9f2-0f77-58ce-8064-f6e12bffa5e7</td>\n",
       "      <td>-1.964343</td>\n",
       "      <td>6.281959</td>\n",
       "      <td>1.371009</td>\n",
       "      <td>2.474164</td>\n",
       "      <td>5.690037</td>\n",
       "      <td>2.496030</td>\n",
       "      <td>-6.083680</td>\n",
       "      <td>4.815941</td>\n",
       "      <td>3.668680</td>\n",
       "      <td>...</td>\n",
       "      <td>-2.849296</td>\n",
       "      <td>1.041103</td>\n",
       "      <td>0.612670</td>\n",
       "      <td>5.174884</td>\n",
       "      <td>3.112768</td>\n",
       "      <td>-6.083680</td>\n",
       "      <td>-0.700733</td>\n",
       "      <td>-0.337343</td>\n",
       "      <td>0.891772</td>\n",
       "      <td>-2.160884</td>\n",
       "    </tr>\n",
       "  </tbody>\n",
       "</table>\n",
       "<p>5 rows × 1018 columns</p>\n",
       "</div>"
      ],
      "text/plain": [
       "                              entity_id  ENSG00000000003.13  \\\n",
       "0  c78f2949-4050-5f14-a401-beddf3ff9f61           -3.317718   \n",
       "1  1507ac24-8ba2-5e57-a05a-86b5157c8377           -1.780950   \n",
       "2  5f49d1ae-e832-59de-89e1-93b6327232f0           -0.160015   \n",
       "3  9d464669-4fa5-5c48-b1b0-f452bee4682e           -2.056501   \n",
       "4  dcc4d9f2-0f77-58ce-8064-f6e12bffa5e7           -1.964343   \n",
       "\n",
       "   ENSG00000002586.16  ENSG00000003436.13  ENSG00000004139.12  \\\n",
       "0            7.573619            7.496639            0.030044   \n",
       "1            7.051258            3.346200            2.184251   \n",
       "2            7.439541            4.448980            2.122186   \n",
       "3            8.326120           -0.251195            2.746839   \n",
       "4            6.281959            1.371009            2.474164   \n",
       "\n",
       "   ENSG00000004399.11  ENSG00000005073.5  ENSG00000005108.14  \\\n",
       "0            5.451009          -5.407333           -6.927145   \n",
       "1            6.213580          -3.720951           -3.230079   \n",
       "2            4.564866          -2.917363           -4.025029   \n",
       "3            7.067713           0.814961           -0.764468   \n",
       "4            5.690037           2.496030           -6.083680   \n",
       "\n",
       "   ENSG00000005156.10  ENSG00000005249.11  ...  ENSG00000278969.1  \\\n",
       "0            4.093628            1.013300  ...          -2.378064   \n",
       "1            5.109320            6.010799  ...          -5.229235   \n",
       "2            4.699963            5.416719  ...          -4.516583   \n",
       "3            4.309663            3.253584  ...          -3.252098   \n",
       "4            4.815941            3.668680  ...          -2.849296   \n",
       "\n",
       "   ENSG00000279692.1  ENSG00000279766.1  ENSG00000279978.1  ENSG00000280206.1  \\\n",
       "0           0.875287           3.787028           4.391355           3.704522   \n",
       "1           0.689439          -0.711582           4.986294           2.566059   \n",
       "2           1.316872           1.046554           4.310124           2.350056   \n",
       "3           2.039168          -0.186234           4.404977           2.689578   \n",
       "4           1.041103           0.612670           5.174884           3.112768   \n",
       "\n",
       "   ENSG00000280255.1  ENSG00000280303.2  ENSG00000280721.1  ENSG00000280777.1  \\\n",
       "0          -5.407333           0.566979           3.611587           0.030044   \n",
       "1          -1.209631          -1.908319          -1.272516          -0.626973   \n",
       "2          -2.298227          -0.710189           1.347360          -1.775996   \n",
       "3          -6.927145          -0.672618          -4.747010          -1.449441   \n",
       "4          -6.083680          -0.700733          -0.337343           0.891772   \n",
       "\n",
       "   ENSG00000281205.1  \n",
       "0          -2.267335  \n",
       "1           0.678398  \n",
       "2          -1.962853  \n",
       "3          -4.143354  \n",
       "4          -2.160884  \n",
       "\n",
       "[5 rows x 1018 columns]"
      ]
     },
     "execution_count": 58,
     "metadata": {},
     "output_type": "execute_result"
    }
   ],
   "source": [
    "## Power BI Visualizations\n",
    "X_Original.head()"
   ]
  },
  {
   "cell_type": "code",
   "execution_count": 63,
   "metadata": {},
   "outputs": [],
   "source": [
    "combined = pd.merge(X_Original, y_Original, on='entity_id')\n",
    "combined.T.to_csv('final_data.csv')\n",
    "combined.T.head()"
   ]
  },
  {
   "cell_type": "code",
   "execution_count": null,
   "metadata": {},
   "outputs": [],
   "source": [
    "# Create Visualizations for the Accuracy of multiple folds for Decision Tree Classifier\n",
    "# This is typically useful when for instance we have a larger number of folds, and would like to examine how the\n",
    "# accuracy is changing for the classifier over the folds - whether it is steady or not.\n",
    "# Display Accuracy of Decision Tree - All Folds\n",
    "\n",
    "import matplotlib.pyplot as plt\n",
    "from IPython.display import Image\n",
    "\n",
    "%matplotlib inline\n",
    "\n",
    "fig = plt.figure(figsize=(20,7))\n",
    "\n",
    "plt.bar(treeAccuracyValuesFrameTranspose.columns.values, treeAccuracyValuesFrameTranspose.iloc[0].values, align='center', alpha=1)\n",
    "plt.title('Accuracy over the folds for sklearn.DecisionTreeClassifier over 1000 gene data set')\n",
    "plt.ylabel('Accuracy (%)')\n",
    "plt.xlabel('Fold Index')\n",
    "plt.savefig(\"visualizations\\\\{}\\\\{}_decision_tree_accuracy.png\".format(dataSize, dataSize))\n",
    "\n",
    "plt.show()\n",
    "# Save the file\n",
    "# Show graph"
   ]
  },
  {
   "cell_type": "code",
   "execution_count": null,
   "metadata": {},
   "outputs": [],
   "source": []
  },
  {
   "cell_type": "code",
   "execution_count": 32,
   "metadata": {},
   "outputs": [],
   "source": [
    "\n",
    "\"\"\"\n",
    "# We generate visualizations for every trained tree model and store them in png files.\n",
    "\n",
    "from sklearn import tree\n",
    "import pydotplus\n",
    "from IPython.display import Image\n",
    "\n",
    "featureNames = X.columns.get_values().tolist()\n",
    "\n",
    "# You have to indicate the class names in ascending numerical order\n",
    "classNames = ['Not Ill', 'Ill']\n",
    "\n",
    "for modelIndex in range(len(allTreeModels)):\n",
    "    \n",
    "    dot_data = tree.export_graphviz(allExtraTreeModels[modelIndex], out_file=None, feature_names=featureNames, class_names = classNames)\n",
    "\n",
    "    # Draw graph\n",
    "    graph = pydotplus.graph_from_dot_data(dot_data)  \n",
    "\n",
    "    # Show graph\n",
    "    image = Image(graph.create_png())\n",
    "\n",
    "\n",
    "    # Create PNG\n",
    "    graph.write_png(\"visualizations\\\\1k_extra_tree_{}.png\".format(modelIndex))\n",
    "\n",
    "    image\n",
    "\n",
    "# SOME ADDITIONAL NOTES\n",
    "# 1. The gini impurity is being used to determine which feature to split at.\n",
    "\"\"\""
   ]
  },
  {
   "cell_type": "code",
   "execution_count": 52,
   "metadata": {},
   "outputs": [
    {
     "data": {
      "text/plain": [
       "'\\n# Visualize the important coefficients for the first decision tree.\\n\\n# Reduce to genes that are greater than 0 coefficients, cos otherwise there will be wayyy to many genes\\n\\n# Show the plots for every fold - only show the top 20 genes for the sake of analysis.\\n\\ntakeCount = 20\\n\\n%matplotlib inline\\nimport matplotlib.pyplot as pl\\n\\n###### NOTE #####\\n\\n#In the visualization belowm, I removed the string ENSG00000 from every chart, because\\n\\n##############\\n\\nfor i in range(5):\\n\\n    title = \"Fold {}\".format(i)\\n    columns = decisionTreeGiniValuesFrame.columns\\n#    columns = [col for col in decisionTreeGiniValuesFrame.columns if decisionTreeGiniValuesFrame[col].iloc[i] > 0]\\n#    columns = columns[0:takeCount]\\n    #replacedColumnValues = [col.replace(\\'ENSG00000\\',\\'\\') for col in columns]\\n    replacedColumnValues = columns\\n    filteredDecisionTreeGini = decisionTreeGiniValuesFrame[columns]\\n    pl.figure(num=None, figsize=(200, 6), dpi=80, facecolor=\\'w\\', edgecolor=\\'k\\')\\n#    ax = pl.subplot()\\n    plt.bar(replacedColumnValues, filteredDecisionTreeGini.iloc[i].values, align=\\'center\\', alpha= 0.5)\\n    pl.tight_layout()\\n    break\\n    \\npl.xticks(rotation = 90)\\npl.title(title)\\npl.show()\\n\\n'"
      ]
     },
     "execution_count": 52,
     "metadata": {},
     "output_type": "execute_result"
    }
   ],
   "source": [
    "\"\"\"\n",
    "# Visualize the important coefficients for the first decision tree.\n",
    "\n",
    "# Reduce to genes that are greater than 0 coefficients, cos otherwise there will be wayyy to many genes\n",
    "\n",
    "# Show the plots for every fold - only show the top 20 genes for the sake of analysis.\n",
    "\n",
    "takeCount = 20\n",
    "\n",
    "%matplotlib inline\n",
    "import matplotlib.pyplot as pl\n",
    "\n",
    "###### NOTE #####\n",
    "\n",
    "#In the visualization belowm, I removed the string ENSG00000 from every chart, because\n",
    "\n",
    "##############\n",
    "\n",
    "for i in range(5):\n",
    "\n",
    "    title = \"Fold {}\".format(i)\n",
    "    columns = decisionTreeGiniValuesFrame.columns\n",
    "#    columns = [col for col in decisionTreeGiniValuesFrame.columns if decisionTreeGiniValuesFrame[col].iloc[i] > 0]\n",
    "#    columns = columns[0:takeCount]\n",
    "    #replacedColumnValues = [col.replace('ENSG00000','') for col in columns]\n",
    "    replacedColumnValues = columns\n",
    "    filteredDecisionTreeGini = decisionTreeGiniValuesFrame[columns]\n",
    "    pl.figure(num=None, figsize=(200, 6), dpi=80, facecolor='w', edgecolor='k')\n",
    "#    ax = pl.subplot()\n",
    "    plt.bar(replacedColumnValues, filteredDecisionTreeGini.iloc[i].values, align='center', alpha= 0.5)\n",
    "    pl.tight_layout()\n",
    "    break\n",
    "    \n",
    "pl.xticks(rotation = 90)\n",
    "pl.title(title)\n",
    "pl.show()\n",
    "\n",
    "\"\"\""
   ]
  },
  {
   "cell_type": "code",
   "execution_count": null,
   "metadata": {},
   "outputs": [],
   "source": []
  }
 ],
 "metadata": {
  "kernelspec": {
   "display_name": "Python 3",
   "language": "python",
   "name": "python3"
  },
  "language_info": {
   "codemirror_mode": {
    "name": "ipython",
    "version": 3
   },
   "file_extension": ".py",
   "mimetype": "text/x-python",
   "name": "python",
   "nbconvert_exporter": "python",
   "pygments_lexer": "ipython3",
   "version": "3.6.0"
  }
 },
 "nbformat": 4,
 "nbformat_minor": 2
}
